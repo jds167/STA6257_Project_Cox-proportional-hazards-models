{
  "cells": [
    {
      "cell_type": "raw",
      "metadata": {},
      "source": [
        "---\n",
        "title: \"Cox Proportional Hazards Model\"\n",
        "output:\n",
        "  html_document:\n",
        "    theme: \"cosmo\"\n",
        "    toc: true\n",
        "author: \"Halley Deleeuw and Jasmine Sawh\"\n",
        "date: \"November 30, 2023\"\n",
        "format: revealjs\n",
        "course: STA 6257 - Advanced Statistical Modeling\n",
        "bibliography: references.bib # file contains bibtex for references\n",
        "#always_allow_html: true # this allows to get PDF with HTML features\n",
        "self-contained: true\n",
        "execute: \n",
        "  warning: false\n",
        "  message: false\n",
        "editor: \n",
        "  markdown: \n",
        "    wrap: 72\n",
        "---"
      ],
      "id": "25616731"
    },
    {
      "cell_type": "markdown",
      "metadata": {},
      "source": [
        "### Introduction to Cox Proportional Hazards Model\n",
        "\n",
        "- Developed by Sir David R. Cox in 1972\n",
        "- Statistical method for survival analysis and epidemiological research\n",
        "- Analyzes time-to-event data\n",
        "- Estimates hazard function\n",
        "- Explores relationships with independent variables\n",
        "- Applications include healthcare, engineering, social sciences "
      ],
      "id": "be5a402f"
    },
    {
      "cell_type": "raw",
      "metadata": {},
      "source": [
        "---\n",
        "\n",
        "### Methods\n",
        "\n",
        "- Semiparametric survival analysis method\n",
        "- Right-censored data \n",
        "$$\n",
        "λ(t) = λ0(t) * exp(β₁X₁ + β₂X₂ + ... + βₖ)\n",
        "$$\n",
        "\n",
        "---"
      ],
      "id": "526faf27"
    },
    {
      "cell_type": "markdown",
      "metadata": {},
      "source": [
        "### Assumptions/Limitations\n",
        "\n",
        "- Proportional Hazard Assumption\n",
        "- Linearity of Continuous Variables\n",
        "- Independence of Censoring\n",
        "- Sensitivity to Outliers"
      ],
      "id": "3122f198"
    },
    {
      "cell_type": "raw",
      "metadata": {},
      "source": [
        "---\n",
        "\n",
        "\n",
        "### Data Description\n",
        "- National Cancer Institute Surveillance, Epidemiology, and End Results Program (SEER)\n",
        "- Comprehensive cancer surveillance system in the US\n",
        "- Covers a wide range of demographic information \n",
        "- Provides insights into cancer trends, outcomes, and risk factors at a national level \n",
        "\n",
        "---"
      ],
      "id": "6351e377"
    },
    {
      "cell_type": "markdown",
      "metadata": {},
      "source": [
        "### Data Table\n",
        "\n",
        "```{include, \"styled_table.html\"}\n",
        "```"
      ],
      "id": "01123e33"
    }
  ],
  "metadata": {
    "kernelspec": {
      "display_name": "Python 3",
      "language": "python",
      "name": "python3"
    }
  },
  "nbformat": 4,
  "nbformat_minor": 5
}